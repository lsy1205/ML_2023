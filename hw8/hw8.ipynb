{
 "cells": [
  {
   "cell_type": "markdown",
   "id": "ce954dca",
   "metadata": {
    "id": "YiVfKn-6tXz8",
    "papermill": {
     "duration": 0.009067,
     "end_time": "2023-05-14T18:38:34.090038",
     "exception": false,
     "start_time": "2023-05-14T18:38:34.080971",
     "status": "completed"
    },
    "tags": []
   },
   "source": [
    "# **Homework 8 - Anomaly Detection**\n",
    "\n",
    "If there are any questions, please contact mlta-2023-spring@googlegroups.com\n",
    "\n",
    "Slide:    [Link](https://docs.google.com/presentation/d/18LkR8qulwSbi3SVoLl1XNNGjQQ_qczs_35lrJWOmHCk/edit?usp=sharing)　Kaggle: [Link](https://www.kaggle.com/t/c76950cc460140eba30a576ca7668d28)"
   ]
  },
  {
   "cell_type": "markdown",
   "id": "83bdddd9",
   "metadata": {
    "id": "bDk9r2YOcDc9",
    "papermill": {
     "duration": 0.006715,
     "end_time": "2023-05-14T18:38:34.103866",
     "exception": false,
     "start_time": "2023-05-14T18:38:34.097151",
     "status": "completed"
    },
    "tags": []
   },
   "source": [
    "# Set up the environment\n"
   ]
  },
  {
   "cell_type": "markdown",
   "id": "b9ca909c",
   "metadata": {
    "id": "Oi12tJMYWi0Q",
    "papermill": {
     "duration": 0.006545,
     "end_time": "2023-05-14T18:38:34.117113",
     "exception": false,
     "start_time": "2023-05-14T18:38:34.110568",
     "status": "completed"
    },
    "tags": []
   },
   "source": [
    "## Package installation"
   ]
  },
  {
   "cell_type": "code",
   "execution_count": 1,
   "id": "b4536a9c",
   "metadata": {
    "execution": {
     "iopub.execute_input": "2023-05-14T18:38:34.133230Z",
     "iopub.status.busy": "2023-05-14T18:38:34.132174Z",
     "iopub.status.idle": "2023-05-14T18:38:49.414732Z",
     "shell.execute_reply": "2023-05-14T18:38:49.413356Z"
    },
    "id": "7LexxyPWWjJB",
    "outputId": "91200dde-b90a-487b-c4e1-5e31f361a7a1",
    "papermill": {
     "duration": 15.293971,
     "end_time": "2023-05-14T18:38:49.417868",
     "exception": false,
     "start_time": "2023-05-14T18:38:34.123897",
     "status": "completed"
    },
    "tags": []
   },
   "outputs": [
    {
     "name": "stdout",
     "output_type": "stream",
     "text": [
      "\u001b[33mWARNING: Running pip as the 'root' user can result in broken permissions and conflicting behaviour with the system package manager. It is recommended to use a virtual environment instead: https://pip.pypa.io/warnings/venv\u001b[0m\u001b[33m\r\n",
      "\u001b[0m"
     ]
    }
   ],
   "source": [
    "# Training progress bar\n",
    "!pip install -q qqdm"
   ]
  },
  {
   "cell_type": "markdown",
   "id": "25935a7d",
   "metadata": {
    "id": "DCgNXSsEWuY7",
    "papermill": {
     "duration": 0.009287,
     "end_time": "2023-05-14T18:38:49.439551",
     "exception": false,
     "start_time": "2023-05-14T18:38:49.430264",
     "status": "completed"
    },
    "tags": []
   },
   "source": [
    "## Downloading data"
   ]
  },
  {
   "cell_type": "code",
   "execution_count": 2,
   "id": "4098fe13",
   "metadata": {
    "execution": {
     "iopub.execute_input": "2023-05-14T18:38:49.460743Z",
     "iopub.status.busy": "2023-05-14T18:38:49.460088Z",
     "iopub.status.idle": "2023-05-14T18:39:08.641342Z",
     "shell.execute_reply": "2023-05-14T18:39:08.640027Z"
    },
    "id": "e-yCMrIl4L60",
    "outputId": "2c5b1d88-88cf-4493-c6fc-96c1da724ec6",
    "papermill": {
     "duration": 19.195069,
     "end_time": "2023-05-14T18:39:08.644128",
     "exception": false,
     "start_time": "2023-05-14T18:38:49.449059",
     "status": "completed"
    },
    "tags": []
   },
   "outputs": [
    {
     "name": "stdout",
     "output_type": "stream",
     "text": [
      "Cloning into 'ml2023spring-hw8'...\r\n",
      "remote: Enumerating objects: 11, done.\u001b[K\r\n",
      "remote: Counting objects: 100% (11/11), done.\u001b[K\r\n",
      "remote: Compressing objects: 100% (10/10), done.\u001b[K\r\n",
      "remote: Total 11 (delta 2), reused 8 (delta 0), pack-reused 0\u001b[K\r\n",
      "Unpacking objects: 100% (11/11), 1.69 KiB | 864.00 KiB/s, done.\r\n",
      "Filtering content: 100% (2/2), 1.36 GiB | 80.20 MiB/s, done.\r\n"
     ]
    }
   ],
   "source": [
    "!git clone https://github.com/chiyuanhsiao/ml2023spring-hw8"
   ]
  },
  {
   "cell_type": "markdown",
   "id": "4ce50840",
   "metadata": {
    "id": "HNe7QU7n7cqh",
    "papermill": {
     "duration": 0.245668,
     "end_time": "2023-05-14T18:39:11.287759",
     "exception": false,
     "start_time": "2023-05-14T18:39:11.042091",
     "status": "completed"
    },
    "tags": []
   },
   "source": [
    "# Import packages"
   ]
  },
  {
   "cell_type": "code",
   "execution_count": 3,
   "id": "0a6a69ee",
   "metadata": {
    "execution": {
     "iopub.execute_input": "2023-05-14T18:39:11.553308Z",
     "iopub.status.busy": "2023-05-14T18:39:11.552065Z",
     "iopub.status.idle": "2023-05-14T18:39:15.431541Z",
     "shell.execute_reply": "2023-05-14T18:39:15.430595Z"
    },
    "id": "Jk3qFK_a7k8P",
    "papermill": {
     "duration": 3.933813,
     "end_time": "2023-05-14T18:39:15.434240",
     "exception": false,
     "start_time": "2023-05-14T18:39:11.500427",
     "status": "completed"
    },
    "tags": []
   },
   "outputs": [],
   "source": [
    "import random\n",
    "import numpy as np\n",
    "import torch\n",
    "from torch import nn\n",
    "from torch.utils.data import DataLoader, RandomSampler, SequentialSampler, TensorDataset\n",
    "import torchvision.transforms as transforms\n",
    "import torch.nn.functional as F\n",
    "from torch.autograd import Variable\n",
    "import torchvision.models as models\n",
    "from torch.optim import Adam, AdamW\n",
    "from qqdm import qqdm, format_str\n",
    "import pandas as pd"
   ]
  },
  {
   "cell_type": "markdown",
   "id": "072a8fcf",
   "metadata": {
    "id": "6X6fkGPnYyaF",
    "papermill": {
     "duration": 0.007783,
     "end_time": "2023-05-14T18:39:15.450197",
     "exception": false,
     "start_time": "2023-05-14T18:39:15.442414",
     "status": "completed"
    },
    "tags": []
   },
   "source": [
    "# Loading data"
   ]
  },
  {
   "cell_type": "code",
   "execution_count": 4,
   "id": "9d938090",
   "metadata": {
    "execution": {
     "iopub.execute_input": "2023-05-14T18:39:15.467273Z",
     "iopub.status.busy": "2023-05-14T18:39:15.466716Z",
     "iopub.status.idle": "2023-05-14T18:39:15.933160Z",
     "shell.execute_reply": "2023-05-14T18:39:15.932162Z"
    },
    "id": "k7Wd4yiUYzAm",
    "outputId": "30403666-ea75-4d75-b5c2-1cf991234334",
    "papermill": {
     "duration": 0.4774,
     "end_time": "2023-05-14T18:39:15.935288",
     "exception": false,
     "start_time": "2023-05-14T18:39:15.457888",
     "status": "completed"
    },
    "tags": []
   },
   "outputs": [
    {
     "name": "stdout",
     "output_type": "stream",
     "text": [
      "(100000, 64, 64, 3)\n",
      "(19636, 64, 64, 3)\n"
     ]
    }
   ],
   "source": [
    "\n",
    "train = np.load('ml2023spring-hw8/trainingset.npy', allow_pickle=True)\n",
    "test = np.load('ml2023spring-hw8/testingset.npy', allow_pickle=True)\n",
    "\n",
    "print(train.shape)\n",
    "print(test.shape)"
   ]
  },
  {
   "cell_type": "markdown",
   "id": "dd6a2534",
   "metadata": {
    "id": "_flpmj6OYIa6",
    "papermill": {
     "duration": 0.007338,
     "end_time": "2023-05-14T18:39:15.950408",
     "exception": false,
     "start_time": "2023-05-14T18:39:15.943070",
     "status": "completed"
    },
    "tags": []
   },
   "source": [
    "## Random seed\n",
    "Set the random seed to a certain value for reproducibility."
   ]
  },
  {
   "cell_type": "code",
   "execution_count": 5,
   "id": "ccbff702",
   "metadata": {
    "execution": {
     "iopub.execute_input": "2023-05-14T18:39:15.967996Z",
     "iopub.status.busy": "2023-05-14T18:39:15.966493Z",
     "iopub.status.idle": "2023-05-14T18:39:16.038717Z",
     "shell.execute_reply": "2023-05-14T18:39:16.037684Z"
    },
    "id": "Gb-dgXQYYI2Q",
    "papermill": {
     "duration": 0.083242,
     "end_time": "2023-05-14T18:39:16.041066",
     "exception": false,
     "start_time": "2023-05-14T18:39:15.957824",
     "status": "completed"
    },
    "tags": []
   },
   "outputs": [],
   "source": [
    "def same_seeds(seed):\n",
    "    random.seed(seed)\n",
    "    np.random.seed(seed)\n",
    "    torch.manual_seed(seed)\n",
    "    if torch.cuda.is_available():\n",
    "        torch.cuda.manual_seed(seed)\n",
    "        torch.cuda.manual_seed_all(seed)\n",
    "    torch.backends.cudnn.benchmark = False\n",
    "    torch.backends.cudnn.deterministic = True\n",
    "\n",
    "same_seeds(48763)"
   ]
  },
  {
   "cell_type": "markdown",
   "id": "3fe00e83",
   "metadata": {
    "id": "zR9zC0_Df-CR",
    "papermill": {
     "duration": 0.007512,
     "end_time": "2023-05-14T18:39:16.056426",
     "exception": false,
     "start_time": "2023-05-14T18:39:16.048914",
     "status": "completed"
    },
    "tags": []
   },
   "source": [
    "# Autoencoder"
   ]
  },
  {
   "cell_type": "markdown",
   "id": "05596df0",
   "metadata": {
    "id": "1EbfwRREhA7c",
    "papermill": {
     "duration": 0.007198,
     "end_time": "2023-05-14T18:39:16.071235",
     "exception": false,
     "start_time": "2023-05-14T18:39:16.064037",
     "status": "completed"
    },
    "tags": []
   },
   "source": [
    "# Models & loss"
   ]
  },
  {
   "cell_type": "code",
   "execution_count": 6,
   "id": "c98f0d12",
   "metadata": {
    "execution": {
     "iopub.execute_input": "2023-05-14T18:39:16.087891Z",
     "iopub.status.busy": "2023-05-14T18:39:16.087597Z",
     "iopub.status.idle": "2023-05-14T18:39:16.115773Z",
     "shell.execute_reply": "2023-05-14T18:39:16.114787Z"
    },
    "id": "Wi8ds1fugCkR",
    "papermill": {
     "duration": 0.038943,
     "end_time": "2023-05-14T18:39:16.117882",
     "exception": false,
     "start_time": "2023-05-14T18:39:16.078939",
     "status": "completed"
    },
    "tags": []
   },
   "outputs": [],
   "source": [
    "class fcn_autoencoder(nn.Module):\n",
    "    def __init__(self):\n",
    "        super(fcn_autoencoder, self).__init__()\n",
    "        self.encoder = nn.Sequential(\n",
    "            nn.Linear(64 * 64 * 3, 2048),\n",
    "            nn.ReLU(),\n",
    "            nn.Linear(2048, 1024),\n",
    "            nn.ReLU(),\n",
    "            nn.Linear(1024, 512),\n",
    "            nn.ReLU(), \n",
    "            nn.Linear(512, 256), \n",
    "            nn.ReLU(), \n",
    "            nn.Linear(256, 128)\n",
    "        )    # Hint: dimension of latent space can be adjusted\n",
    "        \n",
    "        self.decoder = nn.Sequential(\n",
    "            nn.Linear(128, 256),\n",
    "            nn.ReLU(), \n",
    "            nn.Linear(256, 512),\n",
    "            nn.ReLU(),\n",
    "            nn.Linear(512, 1024),\n",
    "            nn.ReLU(), \n",
    "            nn.Linear(1024, 2048), \n",
    "            nn.ReLU(), \n",
    "            nn.Linear(2048, 64 * 64 * 3), \n",
    "            nn.Tanh()\n",
    "        )\n",
    "\n",
    "    def forward(self, x):\n",
    "        x = self.encoder(x)\n",
    "        x = self.decoder(x)\n",
    "        return x\n",
    "\n",
    "\n",
    "# Reference: https://blog.csdn.net/iwill323/article/details/127919157?spm=1001.2101.3001.6650.2&utm_medium=distribute.pc_relevant.none-task-blog-2%7Edefault%7ECTRLIST%7ERate-2-127919157-blog-125292835.235%5Ev33%5Epc_relevant_default_base3&depth_1-utm_source=distribute.pc_relevant.none-task-blog-2%7Edefault%7ECTRLIST%7ERate-2-127919157-blog-125292835.235%5Ev33%5Epc_relevant_default_base3&utm_relevant_index=5\n",
    "class conv_autoencoder(nn.Module):\n",
    "    def __init__(self):\n",
    "        super(conv_autoencoder, self).__init__()\n",
    "        # (64, 64, 3)\n",
    "        self.encoder = nn.Sequential(\n",
    "            nn.Conv2d(3, 24, 4, stride=2, padding=1),  \n",
    "            nn.BatchNorm2d(24),\n",
    "            nn.ReLU(),\n",
    "\n",
    "            nn.Conv2d(24, 24, 4, stride=2, padding=1), \n",
    "            nn.BatchNorm2d(24),\n",
    "            nn.ReLU(),\n",
    "\n",
    "            nn.Conv2d(24, 48, 4, stride=2, padding=1), \n",
    "            nn.BatchNorm2d(48),\n",
    "            nn.ReLU(),\n",
    "\n",
    "            nn.Conv2d(48, 96, 4, stride=2, padding=1), \n",
    "            nn.BatchNorm2d(96),\n",
    "            nn.ReLU(),\n",
    "\n",
    "            nn.Flatten(),\n",
    "            nn.Dropout(0.2),\n",
    "            nn.Linear(96*4*4, 128),\n",
    "            nn.BatchNorm1d(128),\n",
    "            nn.Dropout(0.2),\n",
    "            nn.Linear(128, 10),\n",
    "            nn.BatchNorm1d(10),\n",
    "            nn.ReLU()\n",
    "        )   # Hint:  dimension of latent space can be adjusted\n",
    "        self.decoder = nn.Sequential(\n",
    "            nn.Linear(10, 128),\n",
    "            nn.BatchNorm1d(128),\n",
    "            nn.ReLU(),\n",
    "            nn.Linear(128, 96*4*4),\n",
    "            nn.BatchNorm1d(96*4*4),\n",
    "            nn.ReLU(),\n",
    "            nn.Unflatten(1, (96, 4, 4)),\n",
    "            \n",
    "            nn.ConvTranspose2d(96, 48, 4, stride=2, padding=1),\n",
    "            nn.BatchNorm2d(48),\n",
    "            nn.ReLU(),\n",
    "            nn.ConvTranspose2d(48, 24, 4, stride=2, padding=1),\n",
    "            nn.BatchNorm2d(24),\n",
    "            nn.ReLU(),\n",
    "            nn.ConvTranspose2d(24, 12, 4, stride=2, padding=1),\n",
    "            nn.BatchNorm2d(12),\n",
    "            nn.ReLU(),\n",
    "            nn.ConvTranspose2d(12, 3, 4, stride=2, padding=1),\n",
    "            nn.Tanh(),\n",
    "        )\n",
    "\n",
    "    def forward(self, x):\n",
    "        x = self.encoder(x)\n",
    "        x = self.decoder(x)\n",
    "        return x\n",
    "\n",
    "\n",
    "class VAE(nn.Module):\n",
    "    def __init__(self):\n",
    "        super(VAE, self).__init__()\n",
    "        self.encoder = nn.Sequential(\n",
    "            nn.Conv2d(3, 12, 4, stride=2, padding=1),            \n",
    "            nn.ReLU(),\n",
    "            nn.Conv2d(12, 24, 4, stride=2, padding=1),    \n",
    "            nn.ReLU(),\n",
    "        )\n",
    "        self.enc_out_1 = nn.Sequential(\n",
    "            nn.Conv2d(24, 48, 4, stride=2, padding=1),  \n",
    "            nn.ReLU(),\n",
    "        )\n",
    "        self.enc_out_2 = nn.Sequential(\n",
    "            nn.Conv2d(24, 48, 4, stride=2, padding=1),\n",
    "            nn.ReLU(),\n",
    "        )\n",
    "        # Hint: can add more layers to encoder and decoder\n",
    "        self.decoder = nn.Sequential(\n",
    "            nn.ConvTranspose2d(48, 24, 4, stride=2, padding=1), \n",
    "            nn.ReLU(),\n",
    "            nn.ConvTranspose2d(24, 12, 4, stride=2, padding=1), \n",
    "            nn.ReLU(),\n",
    "            nn.ConvTranspose2d(12, 3, 4, stride=2, padding=1), \n",
    "            nn.Tanh(),\n",
    "        )\n",
    "\n",
    "    def encode(self, x):\n",
    "        h1 = self.encoder(x)\n",
    "        return self.enc_out_1(h1), self.enc_out_2(h1)\n",
    "\n",
    "    def reparametrize(self, mu, logvar):\n",
    "        std = logvar.mul(0.5).exp_()\n",
    "        if torch.cuda.is_available():\n",
    "            eps = torch.cuda.FloatTensor(std.size()).normal_()\n",
    "        else:\n",
    "            eps = torch.FloatTensor(std.size()).normal_()\n",
    "        eps = Variable(eps)\n",
    "        return eps.mul(std).add_(mu)\n",
    "\n",
    "    def decode(self, z):\n",
    "        return self.decoder(z)\n",
    "\n",
    "    def forward(self, x):\n",
    "        mu, logvar = self.encode(x)\n",
    "        z = self.reparametrize(mu, logvar)\n",
    "        return self.decode(z), mu, logvar\n",
    "       \n",
    "def loss_vae(recon_x, x, mu, logvar, criterion):\n",
    "    \"\"\"\n",
    "    recon_x: generating images\n",
    "    x: origin images\n",
    "    mu: latent mean\n",
    "    logvar: latent log variance\n",
    "    \"\"\"\n",
    "    mse = criterion(recon_x, x)\n",
    "    KLD_element = mu.pow(2).add_(logvar.exp()).mul_(-1).add_(1).add_(logvar)\n",
    "    KLD = torch.sum(KLD_element).mul_(-0.5)\n",
    "    return mse + KLD"
   ]
  },
  {
   "cell_type": "markdown",
   "id": "85dffa3b",
   "metadata": {
    "id": "r5iEITKUCM7P",
    "papermill": {
     "duration": 0.008326,
     "end_time": "2023-05-14T18:39:16.133761",
     "exception": false,
     "start_time": "2023-05-14T18:39:16.125435",
     "status": "completed"
    },
    "tags": []
   },
   "source": [
    "## ResNet\n",
    "### Reference: https://blog.csdn.net/iwill323/article/details/127919157?spm=1001.2101.3001.6650.2&utm_medium=distribute.pc_relevant.none-task-blog-2%7Edefault%7ECTRLIST%7ERate-2-127919157-blog-125292835.235%5Ev33%5Epc_relevant_default_base3&depth_1-utm_source=distribute.pc_relevant.none-task-blog-2%7Edefault%7ECTRLIST%7ERate-2-127919157-blog-125292835.235%5Ev33%5Epc_relevant_default_base3&utm_relevant_index=5\n"
   ]
  },
  {
   "cell_type": "code",
   "execution_count": 7,
   "id": "ee8c1a71",
   "metadata": {
    "execution": {
     "iopub.execute_input": "2023-05-14T18:39:16.151284Z",
     "iopub.status.busy": "2023-05-14T18:39:16.150535Z",
     "iopub.status.idle": "2023-05-14T18:39:16.173411Z",
     "shell.execute_reply": "2023-05-14T18:39:16.172559Z"
    },
    "id": "m78UVUQICaYv",
    "papermill": {
     "duration": 0.033629,
     "end_time": "2023-05-14T18:39:16.175384",
     "exception": false,
     "start_time": "2023-05-14T18:39:16.141755",
     "status": "completed"
    },
    "tags": []
   },
   "outputs": [],
   "source": [
    "class Residual_Block(nn.Module):\n",
    "  def __init__(self, ic, oc, stride = 1):\n",
    "    super().__init__()\n",
    "    self.conv1 = nn.Sequential(\n",
    "        nn.Conv2d(ic, oc, kernel_size=3, padding=1, stride = stride),\n",
    "        nn.BatchNorm2d(oc),\n",
    "        nn.ReLU(inplace = True)\n",
    "    )\n",
    "    self.conv2 = nn.Sequential(\n",
    "        nn.Conv2d(oc, oc, kernel_size=3, padding=1),\n",
    "        nn.BatchNorm2d(oc)\n",
    "    )\n",
    "\n",
    "    self.relu = nn.ReLU(inplace = True)\n",
    "\n",
    "    self.downsample = None\n",
    "\n",
    "    if stride != 1 or (ic != oc):\n",
    "      self.downsample = nn.Sequential(\n",
    "          nn.Conv2d(ic, oc, kernel_size = 1, stride = stride),\n",
    "          nn.BatchNorm2d(oc),\n",
    "      )\n",
    "  \n",
    "  def forward(self,x):\n",
    "    residual = x\n",
    "    out = self.conv1(x)\n",
    "    out = self.conv2(out)\n",
    "    if self.downsample:\n",
    "      residual = self.downsample(x)\n",
    "\n",
    "    out += residual\n",
    "    return self.relu(out)\n",
    "\n",
    "\n",
    "class ResNet(nn.Module):\n",
    "  def __init__(self, block = Residual_Block, num_layers=[2,1,1,1]):\n",
    "    super().__init__()\n",
    "    self.preconv = nn.Sequential(\n",
    "        nn.Conv2d(3, 32, kernel_size = 3, stride = 1, padding = 1, bias = False),\n",
    "        nn.BatchNorm2d(32),\n",
    "        nn.ReLU(inplace = True),\n",
    "    )\n",
    "\n",
    "    self.layer0 = self.make_residual(block, 32,   64, num_layers[0], stride = 2)\n",
    "    self.layer1 = self.make_residual(block, 64,  128, num_layers[1], stride = 2)\n",
    "    self.layer2 = self.make_residual(block, 128, 128, num_layers[2], stride = 2)\n",
    "    self.layer3 = self.make_residual(block, 128,  64, num_layers[3], stride = 2)\n",
    "\n",
    "    self.fc = nn.Sequential(\n",
    "        nn.Flatten(),\n",
    "        nn.Dropout(0.2),\n",
    "        nn.Linear(64*4*4, 64),\n",
    "        nn.BatchNorm1d(64),\n",
    "        nn.ReLU(inplace = True),\n",
    "    )\n",
    "\n",
    "    self.decoder = nn.Sequential(\n",
    "        nn.Linear(64, 64*4*4),\n",
    "        nn.BatchNorm1d(64*4*4),\n",
    "        nn.ReLU(),\n",
    "        nn.Unflatten(1, (64,4,4)),\n",
    "        nn.ConvTranspose2d(64, 128, 4, stride = 2, padding = 1),\n",
    "        nn.BatchNorm2d(128),\n",
    "        nn.ReLU(),\n",
    "        nn.ConvTranspose2d(128, 128, 4, stride = 2, padding = 1),\n",
    "        nn.BatchNorm2d(128),\n",
    "        nn.ReLU(),\n",
    "        nn.ConvTranspose2d(128, 128, 4, stride = 2, padding = 1),\n",
    "        nn.BatchNorm2d(128),\n",
    "        nn.ReLU(),\n",
    "        nn.ConvTranspose2d(128, 3, 4, stride = 2, padding = 1),\n",
    "        nn.Tanh(),\n",
    "    )\n",
    "\n",
    "  def make_residual(self, block, ic, oc, num_layer, stride = 1):\n",
    "    layers = []\n",
    "    layers.append(block(ic, oc, stride ))\n",
    "    for i in range(1, num_layer):\n",
    "      layers.append(block(oc,oc))\n",
    "    return nn.Sequential(*layers)\n",
    "\n",
    "  def encoder(self, x):\n",
    "    x = self.preconv(x)\n",
    "    x = self.layer0(x)\n",
    "    x = self.layer1(x)\n",
    "    x = self.layer2(x)\n",
    "    x = self.layer3(x)\n",
    "    x = self.fc(x)\n",
    "    return x\n",
    "\n",
    "  def forward(self, x):\n",
    "    x = self.encoder(x)\n",
    "    x = self.decoder(x)\n",
    "    return x\n",
    "\n",
    "\n",
    "class Auxiliary(nn.Module):\n",
    "  def __init__(self):\n",
    "    super().__init__()\n",
    "    self.decoder = nn.Sequential(\n",
    "        nn.Linear(64, 64*4*4),\n",
    "        nn.BatchNorm1d(64*4*4),\n",
    "        nn.ReLU(),\n",
    "        nn.Unflatten(1, (64,4,4)),\n",
    "        nn.ConvTranspose2d(64, 128, 4, stride = 2, padding = 1),\n",
    "        nn.BatchNorm2d(128),\n",
    "        nn.ReLU(),\n",
    "        nn.ConvTranspose2d(128, 128, 4, stride = 2, padding = 1),\n",
    "        nn.BatchNorm2d(128),\n",
    "        nn.ReLU(),\n",
    "        nn.ConvTranspose2d(128, 128, 4, stride = 2, padding = 1),\n",
    "        nn.BatchNorm2d(128),\n",
    "        nn.ReLU(),\n",
    "        nn.ConvTranspose2d(128, 3, 4, stride = 2, padding = 1),\n",
    "        nn.Tanh(),\n",
    "    )\n",
    "\n",
    "  def forward(self, x): \n",
    "    return self.decoder(x)\n"
   ]
  },
  {
   "cell_type": "markdown",
   "id": "580694d4",
   "metadata": {
    "id": "vrJ9bScg9AgO",
    "papermill": {
     "duration": 0.007264,
     "end_time": "2023-05-14T18:39:16.189904",
     "exception": false,
     "start_time": "2023-05-14T18:39:16.182640",
     "status": "completed"
    },
    "tags": []
   },
   "source": [
    "# Dataset module\n",
    "\n",
    "Module for obtaining and processing data. The transform function here normalizes image's pixels from [0, 255] to [-1.0, 1.0].\n"
   ]
  },
  {
   "cell_type": "code",
   "execution_count": 8,
   "id": "15db3e4f",
   "metadata": {
    "execution": {
     "iopub.execute_input": "2023-05-14T18:39:16.206744Z",
     "iopub.status.busy": "2023-05-14T18:39:16.205975Z",
     "iopub.status.idle": "2023-05-14T18:39:16.213406Z",
     "shell.execute_reply": "2023-05-14T18:39:16.212616Z"
    },
    "id": "33fWhE-h9LPq",
    "papermill": {
     "duration": 0.018096,
     "end_time": "2023-05-14T18:39:16.215318",
     "exception": false,
     "start_time": "2023-05-14T18:39:16.197222",
     "status": "completed"
    },
    "tags": []
   },
   "outputs": [],
   "source": [
    "class CustomTensorDataset(TensorDataset):\n",
    "    \"\"\"TensorDataset with support of transforms.\n",
    "    \"\"\"\n",
    "    def __init__(self, tensors):\n",
    "        self.tensors = tensors\n",
    "        if tensors.shape[-1] == 3:\n",
    "            self.tensors = tensors.permute(0, 3, 1, 2)\n",
    "        \n",
    "        self.transform = transforms.Compose([\n",
    "          transforms.Lambda(lambda x: x.to(torch.float32)),\n",
    "          transforms.Lambda(lambda x: 2. * x/255. - 1.),\n",
    "        ])\n",
    "        \n",
    "    def __getitem__(self, index):\n",
    "        x = self.tensors[index]\n",
    "        \n",
    "        if self.transform:\n",
    "            # mapping images to [-1.0, 1.0]\n",
    "            x = self.transform(x)\n",
    "\n",
    "        return x\n",
    "\n",
    "    def __len__(self):\n",
    "        return len(self.tensors)"
   ]
  },
  {
   "cell_type": "markdown",
   "id": "2bef5672",
   "metadata": {
    "id": "XKNUImqUhIeq",
    "papermill": {
     "duration": 0.007346,
     "end_time": "2023-05-14T18:39:16.230153",
     "exception": false,
     "start_time": "2023-05-14T18:39:16.222807",
     "status": "completed"
    },
    "tags": []
   },
   "source": [
    "# Training"
   ]
  },
  {
   "cell_type": "markdown",
   "id": "57386e14",
   "metadata": {
    "id": "7ebAJdjFmS08",
    "papermill": {
     "duration": 0.007529,
     "end_time": "2023-05-14T18:39:16.245277",
     "exception": false,
     "start_time": "2023-05-14T18:39:16.237748",
     "status": "completed"
    },
    "tags": []
   },
   "source": [
    "## Configuration\n"
   ]
  },
  {
   "cell_type": "code",
   "execution_count": 9,
   "id": "b9921040",
   "metadata": {
    "execution": {
     "iopub.execute_input": "2023-05-14T18:39:16.262292Z",
     "iopub.status.busy": "2023-05-14T18:39:16.261971Z",
     "iopub.status.idle": "2023-05-14T18:39:20.539929Z",
     "shell.execute_reply": "2023-05-14T18:39:20.538200Z"
    },
    "id": "in7yLfmqtZTk",
    "papermill": {
     "duration": 4.294029,
     "end_time": "2023-05-14T18:39:20.547442",
     "exception": false,
     "start_time": "2023-05-14T18:39:16.253413",
     "status": "completed"
    },
    "tags": []
   },
   "outputs": [],
   "source": [
    "# Training hyperparameters\n",
    "batch_size = 256 # Hint: batch size may be lower\n",
    "learning_rate = 8e-4\n",
    "\n",
    "# Build training dataloader\n",
    "x = torch.from_numpy(train)\n",
    "train_dataset = CustomTensorDataset(x)\n",
    "\n",
    "train_sampler = RandomSampler(train_dataset)\n",
    "train_dataloader = DataLoader(train_dataset, sampler=train_sampler, batch_size=batch_size)\n",
    "\n",
    "# Model\n",
    "model_type = 'resnet'   # selecting a model type from {'cnn', 'fcn', 'vae', 'resnet'}\n",
    "model_classes = {'fcn': fcn_autoencoder(), 'cnn': conv_autoencoder(), 'vae': VAE(), 'resnet':ResNet()}\n",
    "model = model_classes[model_type].cuda()\n",
    "\n",
    "# Loss and optimizer\n",
    "criterion = nn.MSELoss()\n",
    "optimizer = torch.optim.Adam(model.parameters(), lr=learning_rate)\n",
    "scheduler = torch.optim.lr_scheduler.StepLR(optimizer, step_size=6, gamma=0.8)"
   ]
  },
  {
   "cell_type": "markdown",
   "id": "2112a64f",
   "metadata": {
    "id": "wyooN-JPm8sS",
    "papermill": {
     "duration": 0.008961,
     "end_time": "2023-05-14T18:39:20.570145",
     "exception": false,
     "start_time": "2023-05-14T18:39:20.561184",
     "status": "completed"
    },
    "tags": []
   },
   "source": [
    "## Training loop"
   ]
  },
  {
   "cell_type": "code",
   "execution_count": 10,
   "id": "ea6a57b0",
   "metadata": {
    "execution": {
     "iopub.execute_input": "2023-05-14T18:39:20.586528Z",
     "iopub.status.busy": "2023-05-14T18:39:20.586192Z",
     "iopub.status.idle": "2023-05-14T18:39:20.590735Z",
     "shell.execute_reply": "2023-05-14T18:39:20.589834Z"
    },
    "id": "TEilib6Da0Wr",
    "papermill": {
     "duration": 0.015164,
     "end_time": "2023-05-14T18:39:20.592791",
     "exception": false,
     "start_time": "2023-05-14T18:39:20.577627",
     "status": "completed"
    },
    "tags": []
   },
   "outputs": [],
   "source": [
    "import os"
   ]
  },
  {
   "cell_type": "code",
   "execution_count": 11,
   "id": "481f34d1",
   "metadata": {
    "execution": {
     "iopub.execute_input": "2023-05-14T18:39:20.609403Z",
     "iopub.status.busy": "2023-05-14T18:39:20.608618Z",
     "iopub.status.idle": "2023-05-14T18:39:21.443827Z",
     "shell.execute_reply": "2023-05-14T18:39:21.442909Z"
    },
    "id": "eHUg2wZjdCWp",
    "papermill": {
     "duration": 0.846497,
     "end_time": "2023-05-14T18:39:21.446659",
     "exception": false,
     "start_time": "2023-05-14T18:39:20.600162",
     "status": "completed"
    },
    "tags": []
   },
   "outputs": [],
   "source": [
    "config = {\n",
    "    \"num_epochs\": 300,\n",
    "    \"lr\" : 8e-4,\n",
    "    \"model_type\":'resnet',\n",
    "    \"T_0\": 2,\n",
    "    \"T_2\": 2,\n",
    "    'ratio_min':20\n",
    "}\n",
    "\n",
    "# config['model_path'] = \"./models\" + config['model_type']\n",
    "\n",
    "model_clases = {'fcn':fcn_autoencoder(), ' cnn': conv_autoencoder(), 'vae':VAE(), 'resnet':ResNet()}\n",
    "model = model_classes[config['model_type']].cuda()\n",
    "# model.load_state_dict(torch.load('./best_model_fcn.pt))\n",
    "\n",
    "aux = Auxiliary().cuda()\n"
   ]
  },
  {
   "cell_type": "code",
   "execution_count": 12,
   "id": "92d220d9",
   "metadata": {
    "execution": {
     "iopub.execute_input": "2023-05-14T18:39:21.471076Z",
     "iopub.status.busy": "2023-05-14T18:39:21.470735Z",
     "iopub.status.idle": "2023-05-15T04:20:32.272648Z",
     "shell.execute_reply": "2023-05-15T04:20:32.271648Z"
    },
    "id": "B_0ayE9LWxrL",
    "outputId": "15506c1e-0414-42c3-d2f9-41a8003bd6ce",
    "papermill": {
     "duration": 34870.844608,
     "end_time": "2023-05-15T04:20:32.303947",
     "exception": false,
     "start_time": "2023-05-14T18:39:21.459339",
     "status": "completed"
    },
    "tags": []
   },
   "outputs": [
    {
     "name": "stdout",
     "output_type": "stream",
     "text": [
      "0 0.13798333456754075\n",
      "1 0.07430690281150286\n",
      "2 0.0644099744384551\n",
      "3 0.05680477332390483\n",
      "4 0.05263542196215571\n",
      "5 0.05047848231880866\n",
      "6 0.05246927486280041\n",
      "7 0.049853461449179806\n",
      "8 0.04803332818857849\n",
      "9 0.04780393445392704\n",
      "10 0.04625213075705501\n",
      "11 0.04519955680498382\n",
      "12 0.04437344556536211\n",
      "13 0.04384360067984637\n",
      "14 0.04728308371494493\n",
      "15 0.045435512681370194\n",
      "16 0.04445090222046198\n",
      "17 0.04349194590926475\n",
      "18 0.043658935600686864\n",
      "19 0.04273841596777787\n",
      "20 0.04267465040240141\n",
      "21 0.04165502120276241\n",
      "22 0.04100914995955384\n",
      "23 0.04072215638654616\n",
      "24 0.04030934581175789\n",
      "25 0.0400009437385575\n",
      "26 0.03971207565854273\n",
      "27 0.03947722183926331\n",
      "28 0.039343900845178865\n",
      "29 0.039251563141641715\n",
      "30 0.04131057908963364\n",
      "31 0.04175669811380184\n",
      "32 0.04110848500638667\n",
      "33 0.040305712205522204\n",
      "34 0.04011050996649296\n",
      "35 0.04007765435425522\n",
      "36 0.03993452291773713\n",
      "37 0.03935955997432589\n",
      "38 0.039011054331689235\n",
      "39 0.03898511875582778\n",
      "40 0.03886309011703562\n",
      "41 0.03869700443256847\n",
      "42 0.038523494768554295\n",
      "43 0.03817405718404924\n",
      "44 0.03798733600189009\n",
      "45 0.037945792155192636\n",
      "46 0.03787054543566826\n",
      "47 0.03760484187766109\n",
      "48 0.03738952816828438\n",
      "49 0.03733834603329754\n",
      "50 0.03731240540780985\n",
      "51 0.03706189369797097\n",
      "52 0.03699441704794269\n",
      "53 0.03685902784128323\n",
      "54 0.03683903914354646\n",
      "55 0.036701126562436216\n",
      "56 0.03667054805533051\n",
      "57 0.03655809107834421\n",
      "58 0.036491443710330196\n",
      "59 0.03643809422812498\n",
      "60 0.03640061057627658\n",
      "61 0.03638891996744344\n",
      "62 0.03881029113936607\n",
      "63 0.038314025801465944\n",
      "64 0.037966066814215896\n",
      "65 0.03793707597629189\n",
      "66 0.03791180713211789\n",
      "67 0.037713143555328364\n",
      "68 0.03755495656291237\n",
      "69 0.037474093887278494\n",
      "70 0.03736603221929897\n",
      "71 0.03731711549908304\n",
      "72 0.037373816170503414\n",
      "73 0.03730507737116131\n",
      "74 0.03712252331206865\n",
      "75 0.037012392364423295\n",
      "76 0.036925377243238945\n",
      "77 0.03681307513733654\n",
      "78 0.03684704028584463\n",
      "79 0.03672961720153499\n",
      "80 0.03662472143007056\n",
      "81 0.036608119230822224\n",
      "82 0.03653589545575249\n",
      "83 0.03648317044081591\n",
      "84 0.03638242042201864\n",
      "85 0.036289194946551265\n",
      "86 0.036213086465435564\n",
      "87 0.03625433351796911\n",
      "88 0.036143640518340917\n",
      "89 0.03603786777924089\n",
      "90 0.036020831864736876\n",
      "91 0.03609459006877811\n",
      "92 0.03594862138066451\n",
      "93 0.035876694009127214\n",
      "94 0.035773270270403695\n",
      "95 0.035705496578494\n",
      "96 0.03581347227896876\n",
      "97 0.03586110226867144\n",
      "98 0.03568257746832145\n",
      "99 0.03554438284176695\n",
      "100 0.03553989560097989\n",
      "101 0.03548770218782717\n",
      "102 0.03541516308741801\n",
      "103 0.03533870584862616\n",
      "104 0.03531221039307392\n",
      "105 0.03529186503928336\n",
      "106 0.03522668737927666\n",
      "107 0.03518436143122366\n",
      "108 0.03512520790862306\n",
      "109 0.035135309257165855\n",
      "110 0.035133152828573266\n",
      "111 0.0350581625252581\n",
      "112 0.03505872062328831\n",
      "113 0.035005716116303376\n",
      "114 0.034989546565219874\n",
      "115 0.03497312329423702\n",
      "116 0.034925483224337056\n",
      "117 0.03492047390936281\n",
      "118 0.03490203659971962\n",
      "119 0.034870043349311784\n",
      "120 0.03481525348504181\n",
      "121 0.03484819459793208\n",
      "122 0.03481611003503775\n",
      "123 0.034780120072157486\n",
      "124 0.03477789482573414\n",
      "125 0.03478976852639252\n",
      "126 0.03667514424418549\n",
      "127 0.03614408985885513\n",
      "128 0.036186453069338716\n",
      "129 0.03601237931443602\n",
      "130 0.03598513034031824\n",
      "131 0.03621205947626277\n",
      "132 0.03619383195477069\n",
      "133 0.03593290855398264\n",
      "134 0.0359024174054108\n",
      "135 0.035932958974024216\n",
      "136 0.03579801318171384\n",
      "137 0.035889053388553506\n",
      "138 0.035907329376929864\n",
      "139 0.03572124176089416\n",
      "140 0.0357065919377005\n",
      "141 0.03568347597785313\n",
      "142 0.03561747659121633\n",
      "143 0.035632707121427104\n",
      "144 0.03557881962536546\n",
      "145 0.03557982541563566\n",
      "146 0.0354746815836643\n",
      "147 0.03571235539053407\n",
      "148 0.035480877170172495\n",
      "149 0.035523111415107535\n",
      "150 0.035455694245865275\n",
      "151 0.03542365485330677\n",
      "152 0.035450623030095454\n",
      "153 0.035416151699431415\n",
      "154 0.035418829211341145\n",
      "155 0.035357520174797236\n",
      "156 0.03527350866657389\n",
      "157 0.035204779899791074\n",
      "158 0.035250660241641044\n",
      "159 0.03520524300768248\n",
      "160 0.035262588106686504\n",
      "161 0.03554003488491563\n",
      "162 0.035221343521800494\n",
      "163 0.035175058990716934\n",
      "164 0.03519717762079995\n",
      "165 0.03508566467620223\n",
      "166 0.0350887800002342\n",
      "167 0.03514572942767607\n",
      "168 0.03504843864104022\n",
      "169 0.03496587897658043\n",
      "170 0.035024738468020164\n",
      "171 0.03492656292970223\n",
      "172 0.03487907633985705\n",
      "173 0.03490261713523999\n",
      "174 0.034913708963205135\n",
      "175 0.0348216019227834\n",
      "176 0.03479651984808695\n",
      "177 0.03479169665471367\n",
      "178 0.0347721241319271\n",
      "179 0.0347603212022568\n",
      "180 0.03475859610702071\n",
      "181 0.03474109548398906\n",
      "182 0.03468732356720263\n",
      "183 0.03464177496674116\n",
      "184 0.03461734367453534\n",
      "185 0.034579744938846746\n",
      "186 0.03455510818401871\n",
      "187 0.03454563899151505\n",
      "188 0.034516092828091455\n",
      "189 0.034474356971738285\n",
      "190 0.034630413593538585\n",
      "191 0.03450130772255266\n",
      "192 0.03453205619245539\n",
      "193 0.03443339301268463\n",
      "194 0.034462310450003884\n",
      "195 0.03439829555695014\n",
      "196 0.034366491376934455\n",
      "197 0.034346374280541145\n",
      "198 0.03432822608581894\n",
      "199 0.03430461789221715\n",
      "200 0.034258131966795155\n",
      "201 0.03427866166528991\n",
      "202 0.03421808854984048\n",
      "203 0.034201779738640234\n",
      "204 0.03417435928683757\n",
      "205 0.0342548428498723\n",
      "206 0.03420089596830061\n",
      "207 0.034206011601726115\n",
      "208 0.03415707564529251\n",
      "209 0.03415510679602318\n",
      "210 0.034135682798941115\n",
      "211 0.03414630814624564\n",
      "212 0.03412890175114507\n",
      "213 0.03407741650519774\n",
      "214 0.03409300085223849\n",
      "215 0.033999020076545\n",
      "216 0.03399635520775605\n",
      "217 0.03400371736749206\n",
      "218 0.03399522192871479\n",
      "219 0.0339349695598073\n",
      "220 0.03391844312400769\n",
      "221 0.03394120983074388\n",
      "222 0.0339161072431318\n",
      "223 0.03395212588407804\n",
      "224 0.033890872612557445\n",
      "225 0.03393040009586098\n",
      "226 0.03387859312679304\n",
      "227 0.03390636160741072\n",
      "228 0.03386515670020104\n",
      "229 0.033908930981098234\n",
      "230 0.03384586193544023\n",
      "231 0.03384113286995827\n",
      "232 0.033835706189084234\n",
      "233 0.03381052594203168\n",
      "234 0.033784104396810614\n",
      "235 0.033789182496269034\n",
      "236 0.033795071208416044\n",
      "237 0.033751558655363216\n",
      "238 0.03378305194513572\n",
      "239 0.03375059690164483\n",
      "240 0.0337406087076039\n",
      "241 0.033710944244776234\n",
      "242 0.03373899638100201\n",
      "243 0.03372735502984365\n",
      "244 0.03371208230190722\n",
      "245 0.03369591559004753\n",
      "246 0.033709813290468564\n",
      "247 0.033662581497141165\n",
      "248 0.033700119441999195\n",
      "249 0.03371063517430402\n",
      "250 0.03368042699535332\n",
      "251 0.03368761216568977\n",
      "252 0.033696311142514736\n",
      "253 0.03367915312709558\n",
      "254 0.03510163753005245\n",
      "255 0.034921011294397855\n",
      "256 0.0349128732881735\n",
      "257 0.03486793997037746\n",
      "258 0.034818150789079155\n",
      "259 0.03471639347465142\n",
      "260 0.03471204028714953\n",
      "261 0.034807592401724034\n",
      "262 0.034786017016148016\n",
      "263 0.034605999146123674\n",
      "264 0.03470581020121379\n",
      "265 0.03467008974546057\n",
      "266 0.03459172980750308\n",
      "267 0.03470056169592511\n",
      "268 0.03467413987916754\n",
      "269 0.03458906965487448\n",
      "270 0.03475669709503498\n",
      "271 0.03458530082345924\n",
      "272 0.03457016181534209\n",
      "273 0.034602138316234966\n",
      "274 0.03484119540628265\n",
      "275 0.03466020408265121\n",
      "276 0.0344787890763234\n",
      "277 0.03454782120178423\n",
      "278 0.034644848202614834\n",
      "279 0.03467775460170663\n",
      "280 0.034530306192081604\n",
      "281 0.03453950812597104\n",
      "282 0.03445373549866859\n",
      "283 0.034550507431444916\n",
      "284 0.03443440830196871\n",
      "285 0.03447272018779574\n",
      "286 0.03447815377617736\n",
      "287 0.03441515742131816\n",
      "288 0.034545840662153784\n",
      "289 0.03442285456658934\n",
      "290 0.034386584968746775\n",
      "291 0.03439258731653928\n",
      "292 0.03448063760157436\n",
      "293 0.034450163345431425\n",
      "294 0.034417384363653714\n",
      "295 0.03434260389612764\n",
      "296 0.03438048962208316\n",
      "297 0.03440069367208749\n",
      "298 0.03432072415147596\n",
      "299 0.034379653251536975\n"
     ]
    }
   ],
   "source": [
    "best_loss = np.inf\n",
    "def trainer(model, config, train_dataloader, devices):\n",
    "  best_loss = np.inf\n",
    "  num_epochs = config['num_epochs']\n",
    "  model_type = config[\"model_type\"]\n",
    "\n",
    "  criterion = nn.MSELoss()\n",
    "  optimizer = torch.optim.Adam(model.parameters(), lr = config[\"lr\"])\n",
    "  optimizer_a = torch.optim.AdamW(aux.parameters(), lr = config[\"lr\"])\n",
    "  scheduler = torch.optim.lr_scheduler.CosineAnnealingWarmRestarts(optimizer, T_0 = config['T_0'], T_mult = config['T_2'], eta_min = config['lr']/config['ratio_min'])\n",
    "\n",
    "  if not os.path.isdir(\"./Checkpoint\"):\n",
    "    os.mkdir(\"./Checkpoint\")\n",
    "  \n",
    "  aux.train()\n",
    "  legend = ['train loss']\n",
    "  # animator = d2l.Animator(xlabel = 'epoch', xlim = [1, num_epochs], legend = legend)\n",
    "  \n",
    "  for epoch in range(num_epochs):\n",
    "    tot_loss, tot_loss_a = 0.0, 0.0\n",
    "    temperature = epoch//2+1\n",
    "    for data in train_dataloader:\n",
    "      img = data.float().to(\"cuda\")\n",
    "      if model_type in ['fcn']:\n",
    "          img = img.view(img.shape[0], -1)\n",
    "\n",
    "      # ===================forward=====================\n",
    "      model.train()\n",
    "      output = model(img)\n",
    "      if model_type in ['vae']:\n",
    "          loss = loss_vae(output[0], img, output[1], output[2], criterion)\n",
    "      else:\n",
    "          loss = criterion(output, img)\n",
    "\n",
    "      tot_loss += loss.item()\n",
    "      # ===================backward====================\n",
    "      optimizer.zero_grad()\n",
    "      loss.backward()\n",
    "      optimizer.step()\n",
    "\n",
    "      # ===================train aux====================\n",
    "      model.eval()\n",
    "      z = model.encoder(img).detach_()\n",
    "      output = output.detach_()\n",
    "      output_a = aux(z)\n",
    "      loss_a = (criterion(output_a, output).mul(temperature).exp())*criterion(output_a, img)\n",
    "      tot_loss_a += loss_a.item()\n",
    "      optimizer_a.zero_grad()\n",
    "      loss_a.backward()\n",
    "      optimizer_a.step()\n",
    "\n",
    "    scheduler.step()\n",
    "\n",
    "    # ===================save_best====================\n",
    "    mean_loss = tot_loss / len(train_dataloader)\n",
    "    print(epoch, mean_loss)\n",
    "    # animator.add(epoch, (mean_loss))\n",
    "    if mean_loss < best_loss:\n",
    "      best_loss = mean_loss\n",
    "      torch.save(model.state_dict(),\"./Checkpoint/\" + 'res')\n",
    "      torch.save(aux.state_dict(), \"./Checkpoint/\" + 'aux')\n",
    "\n",
    "\n",
    "trainer(model, config, train_dataloader, \"cuda\")\n"
   ]
  },
  {
   "cell_type": "markdown",
   "id": "90561a31",
   "metadata": {
    "id": "Wk0UxFuchLzR",
    "papermill": {
     "duration": 0.028136,
     "end_time": "2023-05-15T04:20:32.360481",
     "exception": false,
     "start_time": "2023-05-15T04:20:32.332345",
     "status": "completed"
    },
    "tags": []
   },
   "source": [
    "# Inference\n",
    "Model is loaded and generates its anomaly score predictions."
   ]
  },
  {
   "cell_type": "code",
   "execution_count": 13,
   "id": "af3e1e71",
   "metadata": {
    "execution": {
     "iopub.execute_input": "2023-05-15T04:20:32.418448Z",
     "iopub.status.busy": "2023-05-15T04:20:32.418120Z",
     "iopub.status.idle": "2023-05-15T04:20:45.209142Z",
     "shell.execute_reply": "2023-05-15T04:20:45.208061Z"
    },
    "id": "zQlScZHeh4-U",
    "outputId": "1866a1f4-e1b4-423e-81b0-f837e8fbb272",
    "papermill": {
     "duration": 12.822806,
     "end_time": "2023-05-15T04:20:45.211404",
     "exception": false,
     "start_time": "2023-05-15T04:20:32.388598",
     "status": "completed"
    },
    "tags": []
   },
   "outputs": [
    {
     "name": "stdout",
     "output_type": "stream",
     "text": [
      "總長度是19636, batch數量是 19.18\n"
     ]
    },
    {
     "data": {
      "image/png": "[encoded data removed]",
      "text/plain": [
       "<Figure size 1200x400 with 2 Axes>"
      ]
     },
     "metadata": {},
     "output_type": "display_data"
    }
   ],
   "source": [
    "eval_batch_size = 1024\n",
    "\n",
    "data = torch.tensor(test, dtype=torch.float32)\n",
    "test_dataset = CustomTensorDataset(data)\n",
    "test_dataloader = DataLoader(test_dataset, shuffle = False, batch_size = eval_batch_size, num_workers = 2, pin_memory = True)\n",
    "print('總長度是{:d}, batch數量是 {:.2f}'.format(len(test_dataset), len(test_dataset)/eval_batch_size))\n",
    "eval_loss = nn.MSELoss(reduction = \"none\")\n",
    "\n",
    "model = ResNet().to(\"cuda\")\n",
    "model.load_state_dict(torch.load(\"./Checkpoint/\" + 'res'))\n",
    "aux = Auxiliary().to(\"cuda\")\n",
    "aux.load_state_dict(torch.load(\"./Checkpoint/\" + 'aux'))\n",
    "model.eval()\n",
    "\n",
    "out_file = 'pred.csv'\n",
    "out_file_a = 'pred_a.csv'\n",
    "\n",
    "anomality = []\n",
    "auxs = []\n",
    "with torch.no_grad():\n",
    "  for i, data in enumerate(test_dataloader):\n",
    "    img = data.float().to(\"cuda\")\n",
    "    z = model.encoder(img)\n",
    "    output = model(img)\n",
    "    output, output_a = model.decoder(z), aux(z)\n",
    "    loss = eval_loss(output, img).mean([1,2,3])\n",
    "    loss_a = eval_loss(output_a, img).mean([1,2,3])\n",
    "    anomality.append(loss)\n",
    "    auxs.append(loss_a)\n",
    "\n",
    "anomality = torch.cat(anomality, axis = 0)\n",
    "anomality = torch.sqrt(anomality).reshape(len(test), 1).cpu().numpy()\n",
    "auxs = torch.cat(auxs,axis = 0)\n",
    "auxs = torch.sqrt(auxs).reshape(len(test),1).cpu().numpy()\n",
    "\n",
    "df = pd.DataFrame(anomality, columns = ['score'])\n",
    "df.to_csv(out_file, index_label = \"ID\")\n",
    "df_a = pd.DataFrame(auxs, columns = ['score'])\n",
    "df_a.to_csv(out_file_a, index_label = \"ID\")\n",
    "\n",
    "import matplotlib.pyplot as plt\n",
    "plt.figure(figsize = (12, 4))\n",
    "plt.subplot(121)\n",
    "plt.title('reconstruct error')\n",
    "plt.hist(df.score)\n",
    "plt.subplot(122)\n",
    "plt.title('aux error')\n",
    "plt.hist(df_a.score)\n",
    "plt.show()"
   ]
  }
 ],
 "metadata": {
  "kernelspec": {
   "display_name": "Python 3",
   "language": "python",
   "name": "python3"
  },
  "language_info": {
   "codemirror_mode": {
    "name": "ipython",
    "version": 3
   },
   "file_extension": ".py",
   "mimetype": "text/x-python",
   "name": "python",
   "nbconvert_exporter": "python",
   "pygments_lexer": "ipython3",
   "version": "3.10.10"
  },
  "papermill": {
   "default_parameters": {},
   "duration": 34944.353153,
   "end_time": "2023-05-15T04:20:47.815996",
   "environment_variables": {},
   "exception": null,
   "input_path": "__notebook__.ipynb",
   "output_path": "__notebook__.ipynb",
   "parameters": {},
   "start_time": "2023-05-14T18:38:23.462843",
   "version": "2.4.0"
  }
 },
 "nbformat": 4,
 "nbformat_minor": 5
}
