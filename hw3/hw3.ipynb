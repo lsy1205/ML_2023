{
  "metadata": {
    "kernelspec": {
      "language": "python",
      "display_name": "Python 3",
      "name": "python3"
    },
    "language_info": {
      "name": "python",
      "version": "3.7.12",
      "mimetype": "text/x-python",
      "codemirror_mode": {
        "name": "ipython",
        "version": 3
      },
      "pygments_lexer": "ipython3",
      "nbconvert_exporter": "python",
      "file_extension": ".py"
    },
    "colab": {
      "provenance": []
    }
  },
  "nbformat_minor": 0,
  "nbformat": 4,
  "cells": [
    {
      "cell_type": "markdown",
      "source": [
        "## HW3 Image Classification\n",
        "#### Solve image classification with convolutional neural networks(CNN).\n",
        "#### If you have any questions, please contact the TAs via TA hours, NTU COOL, or email to mlta-2023-spring@googlegroups.com"
      ],
      "metadata": {
        "id": "LXBXdYGTfQGy"
      }
    },
    {
      "cell_type": "code",
      "source": [
        "# check GPU type.\n",
        "!nvidia-smi"
      ],
      "metadata": {
        "execution": {
          "iopub.status.busy": "2023-03-15T18:20:18.036676Z",
          "iopub.execute_input": "2023-03-15T18:20:18.036970Z",
          "iopub.status.idle": "2023-03-15T18:20:19.106332Z",
          "shell.execute_reply.started": "2023-03-15T18:20:18.036941Z",
          "shell.execute_reply": "2023-03-15T18:20:19.104964Z"
        },
        "trusted": true,
        "id": "KH_9Mrs1fQG3",
        "outputId": "5f6baedc-e9d7-41aa-f9c7-d8b3bc7b71b5"
      },
      "execution_count": null,
      "outputs": [
        {
          "name": "stdout",
          "text": "Wed Mar 15 18:20:18 2023       \n+-----------------------------------------------------------------------------+\n| NVIDIA-SMI 470.82.01    Driver Version: 470.82.01    CUDA Version: 11.4     |\n|-------------------------------+----------------------+----------------------+\n| GPU  Name        Persistence-M| Bus-Id        Disp.A | Volatile Uncorr. ECC |\n| Fan  Temp  Perf  Pwr:Usage/Cap|         Memory-Usage | GPU-Util  Compute M. |\n|                               |                      |               MIG M. |\n|===============================+======================+======================|\n|   0  Tesla P100-PCIE...  Off  | 00000000:00:04.0 Off |                    0 |\n| N/A   33C    P0    26W / 250W |      0MiB / 16280MiB |      0%      Default |\n|                               |                      |                  N/A |\n+-------------------------------+----------------------+----------------------+\n                                                                               \n+-----------------------------------------------------------------------------+\n| Processes:                                                                  |\n|  GPU   GI   CI        PID   Type   Process name                  GPU Memory |\n|        ID   ID                                                   Usage      |\n|=============================================================================|\n|  No running processes found                                                 |\n+-----------------------------------------------------------------------------+\n",
          "output_type": "stream"
        }
      ]
    },
    {
      "cell_type": "markdown",
      "source": [
        "### Import Packages"
      ],
      "metadata": {
        "id": "jjtASXlZfQG5"
      }
    },
    {
      "cell_type": "code",
      "source": [
        "_exp_name = \"sample\""
      ],
      "metadata": {
        "execution": {
          "iopub.status.busy": "2023-03-15T18:20:19.108758Z",
          "iopub.execute_input": "2023-03-15T18:20:19.109144Z",
          "iopub.status.idle": "2023-03-15T18:20:19.119609Z",
          "shell.execute_reply.started": "2023-03-15T18:20:19.109100Z",
          "shell.execute_reply": "2023-03-15T18:20:19.118270Z"
        },
        "trusted": true,
        "id": "VGj5kzcSfQG5"
      },
      "execution_count": null,
      "outputs": []
    },
    {
      "cell_type": "code",
      "source": [
        "# Import necessary packages.\n",
        "import numpy as np\n",
        "import pandas as pd\n",
        "import torch\n",
        "import os\n",
        "import torch.nn as nn\n",
        "import torchvision.models as models\n",
        "import torchvision.transforms as transforms\n",
        "from PIL import Image\n",
        "# \"ConcatDataset\" and \"Subset\" are possibly useful when doing semi-supervised learning.\n",
        "from torch.utils.data import ConcatDataset, DataLoader, Subset, Dataset\n",
        "from torchvision.datasets import DatasetFolder, VisionDataset\n",
        "# This is for the progress bar.\n",
        "from tqdm.auto import tqdm\n",
        "import random"
      ],
      "metadata": {
        "execution": {
          "iopub.status.busy": "2023-03-15T18:20:19.123049Z",
          "iopub.execute_input": "2023-03-15T18:20:19.123812Z",
          "iopub.status.idle": "2023-03-15T18:20:22.308503Z",
          "shell.execute_reply.started": "2023-03-15T18:20:19.123754Z",
          "shell.execute_reply": "2023-03-15T18:20:22.306533Z"
        },
        "trusted": true,
        "id": "z_coowzMfQG6"
      },
      "execution_count": null,
      "outputs": []
    },
    {
      "cell_type": "code",
      "source": [
        "myseed = 6666  # set a random seed for reproducibility\n",
        "torch.backends.cudnn.deterministic = True\n",
        "torch.backends.cudnn.benchmark = False\n",
        "np.random.seed(myseed)\n",
        "torch.manual_seed(myseed)\n",
        "if torch.cuda.is_available():\n",
        "    torch.cuda.manual_seed_all(myseed)"
      ],
      "metadata": {
        "execution": {
          "iopub.status.busy": "2023-03-15T18:20:22.312018Z",
          "iopub.execute_input": "2023-03-15T18:20:22.312716Z",
          "iopub.status.idle": "2023-03-15T18:20:22.398449Z",
          "shell.execute_reply.started": "2023-03-15T18:20:22.312675Z",
          "shell.execute_reply": "2023-03-15T18:20:22.397276Z"
        },
        "trusted": true,
        "id": "NM6Ul7ZDfQG6"
      },
      "execution_count": null,
      "outputs": []
    },
    {
      "cell_type": "markdown",
      "source": [
        "### Transforms"
      ],
      "metadata": {
        "id": "vVD2UDvifQG6"
      }
    },
    {
      "cell_type": "markdown",
      "source": [
        "refernce: https://www.kaggle.com/code/rezasaatchi/food-11-classification-pytorch-transfer-learning\n"
      ],
      "metadata": {
        "id": "T8xyDV1XfZ73"
      }
    },
    {
      "cell_type": "code",
      "source": [
        "image_size = 224\n",
        "mean = [0.554, 0.450, 0.343]\n",
        "std = [0.231, 0.241, 0.241]"
      ],
      "metadata": {
        "id": "E9hil2Q5fQG7"
      },
      "execution_count": null,
      "outputs": []
    },
    {
      "cell_type": "code",
      "source": [
        "# Normally, We don't need augmentations in testing and validation.\n",
        "# All we need here is to resize the PIL image and transform it into Tensor.\n",
        "test_tfm = transforms.Compose([\n",
        "    transforms.Resize((image_size, image_size)),\n",
        "    transforms.ToTensor(),\n",
        "    transforms.Normalize(mean,std),\n",
        "])\n",
        "\n",
        "# However, it is also possible to use augmentation in the testing phase.\n",
        "# You may use train_tfm to produce a variety of images and then test using ensemble methods\n",
        "train_tfm = transforms.Compose([\n",
        "    # Resize the image into a fixed shape (height = width = 128)\n",
        "    transforms.Resize((image_size, image_size)),\n",
        "    # You may add some transforms here.\n",
        "    transforms.RandomRotation(20),\n",
        "    transforms.RandomHorizontalFlip(),\n",
        "    transforms.ColorJitter(0.1,0.1,0.1),\n",
        "    # ToTensor() should be the last one of the transforms.\n",
        "    transforms.ToTensor(),\n",
        "    transforms.Normalize(mean,std),\n",
        "    transforms.RandomErasing(),\n",
        "])"
      ],
      "metadata": {
        "execution": {
          "iopub.status.busy": "2023-03-15T18:20:22.402886Z",
          "iopub.execute_input": "2023-03-15T18:20:22.403940Z",
          "iopub.status.idle": "2023-03-15T18:20:22.412983Z",
          "shell.execute_reply.started": "2023-03-15T18:20:22.403899Z",
          "shell.execute_reply": "2023-03-15T18:20:22.411815Z"
        },
        "trusted": true,
        "id": "7uFvGi8FfQG7"
      },
      "execution_count": null,
      "outputs": []
    },
    {
      "cell_type": "markdown",
      "source": [
        "### Datasets"
      ],
      "metadata": {
        "id": "WZp2AUSFfQG8"
      }
    },
    {
      "cell_type": "code",
      "source": [
        "class FoodDataset(Dataset):\n",
        "\n",
        "    def __init__(self,path,tfm=test_tfm,files = None):\n",
        "        super(FoodDataset).__init__()\n",
        "        self.path = path\n",
        "        self.files = sorted([os.path.join(path,x) for x in os.listdir(path) if x.endswith(\".jpg\")])\n",
        "        if files != None:\n",
        "            self.files = files\n",
        "            \n",
        "        self.transform = tfm\n",
        "  \n",
        "    def __len__(self):\n",
        "        return len(self.files)\n",
        "  \n",
        "    def __getitem__(self,idx):\n",
        "        fname = self.files[idx]\n",
        "        im = Image.open(fname)\n",
        "        im = self.transform(im)\n",
        "        \n",
        "        try:\n",
        "            label = int(fname.split(\"/\")[-1].split(\"_\")[0])\n",
        "        except:\n",
        "            label = -1 # test has no label\n",
        "            \n",
        "        return im,label"
      ],
      "metadata": {
        "execution": {
          "iopub.status.busy": "2023-03-15T18:20:22.417708Z",
          "iopub.execute_input": "2023-03-15T18:20:22.418056Z",
          "iopub.status.idle": "2023-03-15T18:20:22.429883Z",
          "shell.execute_reply.started": "2023-03-15T18:20:22.418029Z",
          "shell.execute_reply": "2023-03-15T18:20:22.428838Z"
        },
        "trusted": true,
        "id": "575bGghRfQG8"
      },
      "execution_count": null,
      "outputs": []
    },
    {
      "cell_type": "markdown",
      "source": [
        "### Model"
      ],
      "metadata": {
        "id": "KtA0_DPJfQG9"
      }
    },
    {
      "cell_type": "code",
      "source": [
        "class Classifier(nn.Module):\n",
        "    def __init__(self):\n",
        "        super(Classifier, self).__init__()\n",
        "        # torch.nn.Conv2d(in_channels, out_channels, kernel_size, stride, padding)\n",
        "        # torch.nn.MaxPool2d(kernel_size, stride, padding)\n",
        "        # input 維度 [3, 224, 224]\n",
        "        self.cnn = nn.Sequential(\n",
        "            nn.Conv2d(3, 64, 3, 1, 1),  # [64, 224, 224]\n",
        "            nn.BatchNorm2d(64),\n",
        "            nn.ReLU(),\n",
        "            nn.MaxPool2d(2, 2, 0),      # [64, 112, 112]\n",
        "\n",
        "            nn.Conv2d(64, 128, 3, 1, 1), # [128, 112, 112]\n",
        "            nn.BatchNorm2d(128),\n",
        "            nn.ReLU(),\n",
        "            nn.MaxPool2d(2, 2, 0),      # [128, 56, 56]\n",
        "\n",
        "            nn.Conv2d(128, 256, 3, 1, 1), # [256, 56, 56]\n",
        "            nn.BatchNorm2d(256),\n",
        "            nn.ReLU(),\n",
        "            nn.MaxPool2d(2, 2, 0),      # [256, 28, 28]\n",
        "\n",
        "            nn.Conv2d(256, 512, 3, 1, 1), # [512, 28, 28]\n",
        "            nn.BatchNorm2d(512),\n",
        "            nn.ReLU(),\n",
        "            nn.MaxPool2d(2, 2, 0),       # [512, 14, 14]\n",
        "            \n",
        "            nn.Conv2d(512, 512, 3, 1, 1), # [512, 14, 14]\n",
        "            nn.BatchNorm2d(512),\n",
        "            nn.ReLU(),\n",
        "            nn.MaxPool2d(2, 2, 0),       # [512, 7, 7]\n",
        "        )\n",
        "        self.fc = nn.Sequential(\n",
        "            nn.Linear(512*7*7, 1024),\n",
        "            nn.ReLU(),\n",
        "            nn.Linear(1024, 512),\n",
        "            nn.ReLU(),\n",
        "            nn.Linear(512, 11)\n",
        "        )\n",
        "\n",
        "    def forward(self, x):\n",
        "        out = self.cnn(x)\n",
        "        out = out.view(out.size()[0], -1)\n",
        "        return self.fc(out)"
      ],
      "metadata": {
        "execution": {
          "iopub.status.busy": "2023-03-15T18:20:22.432574Z",
          "iopub.execute_input": "2023-03-15T18:20:22.434081Z",
          "iopub.status.idle": "2023-03-15T18:20:22.448355Z",
          "shell.execute_reply.started": "2023-03-15T18:20:22.434042Z",
          "shell.execute_reply": "2023-03-15T18:20:22.447303Z"
        },
        "trusted": true,
        "id": "WkeRKQQRfQG9"
      },
      "execution_count": null,
      "outputs": []
    },
    {
      "cell_type": "code",
      "source": [
        "class FoodClassifier(nn.Module):\n",
        "    def __init__(self):\n",
        "        super(FoodClassifier, self).__init__()\n",
        "        self.desnet = models.densenet121(weights = False)\n",
        "    def forward(self,x):\n",
        "        out = self.desnet(x)\n",
        "        out = out.view(out.size()[0], -1)\n",
        "        return self.desnet(x)"
      ],
      "metadata": {
        "execution": {
          "iopub.status.busy": "2023-03-15T18:20:22.450297Z",
          "iopub.execute_input": "2023-03-15T18:20:22.451160Z",
          "iopub.status.idle": "2023-03-15T18:20:22.459405Z",
          "shell.execute_reply.started": "2023-03-15T18:20:22.451123Z",
          "shell.execute_reply": "2023-03-15T18:20:22.458422Z"
        },
        "trusted": true,
        "id": "lBGE7TSQfQG-"
      },
      "execution_count": null,
      "outputs": []
    },
    {
      "cell_type": "markdown",
      "source": [
        "### Configurations"
      ],
      "metadata": {
        "id": "o3q83dBBfQG-"
      }
    },
    {
      "cell_type": "code",
      "source": [
        "# \"cuda\" only when GPUs are available.\n",
        "device = \"cuda\" if torch.cuda.is_available() else \"cpu\"\n",
        "\n",
        "# Initialize a model, and put it on the device specified.\n",
        "model = FoodClassifier().to(device)\n",
        "\n",
        "# The number of batch size.\n",
        "batch_size = 16\n",
        "\n",
        "# The number of training epochs.\n",
        "n_epochs = 100\n",
        "\n",
        "# If no improvement in 'patience' epochs, early stop.\n",
        "patience = 20\n",
        "\n",
        "# For the classification task, we use cross-entropy as the measurement of performance.\n",
        "criterion = nn.CrossEntropyLoss()\n",
        "\n",
        "# Initialize optimizer, you may fine-tune some hyperparameters such as learning rate on your own.\n",
        "optimizer = torch.optim.Adam(model.parameters(), lr=0.0003, weight_decay=1e-5)"
      ],
      "metadata": {
        "execution": {
          "iopub.status.busy": "2023-03-15T18:20:22.461225Z",
          "iopub.execute_input": "2023-03-15T18:20:22.461964Z",
          "iopub.status.idle": "2023-03-15T18:20:25.853731Z",
          "shell.execute_reply.started": "2023-03-15T18:20:22.461927Z",
          "shell.execute_reply": "2023-03-15T18:20:25.852714Z"
        },
        "trusted": true,
        "id": "3iWygyQVfQG-",
        "outputId": "021f01f9-3714-4458-94ce-16fc032e65fe"
      },
      "execution_count": null,
      "outputs": [
        {
          "name": "stderr",
          "text": "/opt/conda/lib/python3.7/site-packages/torchvision/models/_utils.py:223: UserWarning: Arguments other than a weight enum or `None` for 'weights' are deprecated since 0.13 and may be removed in the future. The current behavior is equivalent to passing `weights=None`.\n  warnings.warn(msg)\n",
          "output_type": "stream"
        }
      ]
    },
    {
      "cell_type": "markdown",
      "source": [
        "### Dataloader"
      ],
      "metadata": {
        "id": "Mom5N53sfQG_"
      }
    },
    {
      "cell_type": "code",
      "source": [
        "# Construct train and valid datasets.\n",
        "# The argument \"loader\" tells how torchvision reads the data.\n",
        "train_set = FoodDataset(\"/kaggle/input/ml2023spring-hw3/train\", tfm=train_tfm)\n",
        "train_loader = DataLoader(train_set, batch_size=batch_size, shuffle=True, num_workers=0, pin_memory=True)\n",
        "valid_set = FoodDataset(\"/kaggle/input/ml2023spring-hw3/valid\", tfm=test_tfm)\n",
        "valid_loader = DataLoader(valid_set, batch_size=batch_size, shuffle=True, num_workers=0, pin_memory=True)"
      ],
      "metadata": {
        "execution": {
          "iopub.status.busy": "2023-03-15T18:20:25.857452Z",
          "iopub.execute_input": "2023-03-15T18:20:25.857902Z",
          "iopub.status.idle": "2023-03-15T18:20:26.126623Z",
          "shell.execute_reply.started": "2023-03-15T18:20:25.857873Z",
          "shell.execute_reply": "2023-03-15T18:20:26.125628Z"
        },
        "trusted": true,
        "id": "gMGRnFKvfQG_"
      },
      "execution_count": null,
      "outputs": []
    },
    {
      "cell_type": "markdown",
      "source": [
        "### Start Training"
      ],
      "metadata": {
        "id": "oJ14LnutfQG_"
      }
    },
    {
      "cell_type": "code",
      "source": [
        "# Initialize trackers, these are not parameters and should not be changed\n",
        "stale = 0\n",
        "best_acc = 0\n",
        "\n",
        "for epoch in range(n_epochs):\n",
        "\n",
        "    # ---------- Training ----------\n",
        "    # Make sure the model is in train mode before training.\n",
        "    model.train()\n",
        "\n",
        "    # These are used to record information in training.\n",
        "    train_loss = []\n",
        "    train_accs = []\n",
        "\n",
        "    for batch in tqdm(train_loader):\n",
        "\n",
        "        # A batch consists of image data and corresponding labels.\n",
        "        imgs, labels = batch\n",
        "        #imgs = imgs.half()\n",
        "        #print(imgs.shape,labels.shape)\n",
        "\n",
        "        # Forward the data. (Make sure data and model are on the same device.)\n",
        "        logits = model(imgs.to(device))\n",
        "\n",
        "        # Calculate the cross-entropy loss.\n",
        "        # We don't need to apply softmax before computing cross-entropy as it is done automatically.\n",
        "        loss = criterion(logits, labels.to(device))\n",
        "\n",
        "        # Gradients stored in the parameters in the previous step should be cleared out first.\n",
        "        optimizer.zero_grad()\n",
        "\n",
        "        # Compute the gradients for parameters.\n",
        "        loss.backward()\n",
        "\n",
        "        # Clip the gradient norms for stable training.\n",
        "        grad_norm = nn.utils.clip_grad_norm_(model.parameters(), max_norm=10)\n",
        "\n",
        "        # Update the parameters with computed gradients.\n",
        "        optimizer.step()\n",
        "\n",
        "        # Compute the accuracy for current batch.\n",
        "        acc = (logits.argmax(dim=-1) == labels.to(device)).float().mean()\n",
        "\n",
        "        # Record the loss and accuracy.\n",
        "        train_loss.append(loss.item())\n",
        "        train_accs.append(acc)\n",
        "        \n",
        "    train_loss = sum(train_loss) / len(train_loss)\n",
        "    train_acc = sum(train_accs) / len(train_accs)\n",
        "\n",
        "    # Print the information.\n",
        "    print(f\"[ Train | {epoch + 1:03d}/{n_epochs:03d} ] loss = {train_loss:.5f}, acc = {train_acc:.5f}\")\n",
        "\n",
        "    # ---------- Validation ----------\n",
        "    # Make sure the model is in eval mode so that some modules like dropout are disabled and work normally.\n",
        "    model.eval()\n",
        "\n",
        "    # These are used to record information in validation.\n",
        "    valid_loss = []\n",
        "    valid_accs = []\n",
        "\n",
        "    # Iterate the validation set by batches.\n",
        "    for batch in tqdm(valid_loader):\n",
        "\n",
        "        # A batch consists of image data and corresponding labels.\n",
        "        imgs, labels = batch\n",
        "        #imgs = imgs.half()\n",
        "\n",
        "        # We don't need gradient in validation.\n",
        "        # Using torch.no_grad() accelerates the forward process.\n",
        "        with torch.no_grad():\n",
        "            logits = model(imgs.to(device))\n",
        "\n",
        "        # We can still compute the loss (but not the gradient).\n",
        "        loss = criterion(logits, labels.to(device))\n",
        "\n",
        "        # Compute the accuracy for current batch.\n",
        "        acc = (logits.argmax(dim=-1) == labels.to(device)).float().mean()\n",
        "\n",
        "        # Record the loss and accuracy.\n",
        "        valid_loss.append(loss.item())\n",
        "        valid_accs.append(acc)\n",
        "        #break\n",
        "\n",
        "    # The average loss and accuracy for entire validation set is the average of the recorded values.\n",
        "    valid_loss = sum(valid_loss) / len(valid_loss)\n",
        "    valid_acc = sum(valid_accs) / len(valid_accs)\n",
        "\n",
        "    # Print the information.\n",
        "    print(f\"[ Valid | {epoch + 1:03d}/{n_epochs:03d} ] loss = {valid_loss:.5f}, acc = {valid_acc:.5f}\")\n",
        "\n",
        "\n",
        "    # update logs\n",
        "    if valid_acc > best_acc:\n",
        "        with open(f\"./{_exp_name}_log.txt\",\"a\"):\n",
        "            print(f\"[ Valid | {epoch + 1:03d}/{n_epochs:03d} ] loss = {valid_loss:.5f}, acc = {valid_acc:.5f} -> best\")\n",
        "    else:\n",
        "        with open(f\"./{_exp_name}_log.txt\",\"a\"):\n",
        "            print(f\"[ Valid | {epoch + 1:03d}/{n_epochs:03d} ] loss = {valid_loss:.5f}, acc = {valid_acc:.5f}\")\n",
        "\n",
        "\n",
        "    # save models\n",
        "    if valid_acc > best_acc:\n",
        "        print(f\"Best model found at epoch {epoch}, saving model\")\n",
        "        torch.save(model.state_dict(), f\"{_exp_name}_best.ckpt\") # only save best to prevent output memory exceed error\n",
        "        best_acc = valid_acc\n",
        "        stale = 0\n",
        "    else:\n",
        "        stale += 1\n",
        "        if stale > patience:\n",
        "            print(f\"No improvment {patience} consecutive epochs, early stopping\")\n",
        "            break"
      ],
      "metadata": {
        "execution": {
          "iopub.status.busy": "2023-03-15T18:20:26.128052Z",
          "iopub.execute_input": "2023-03-15T18:20:26.128410Z"
        },
        "trusted": true,
        "colab": {
          "referenced_widgets": [
            "32a40337be60470b8d5b09bf55c57228",
            "b561404d5fe64e8b9f483d23f97b76ef",
            "43038d05dc954ccbbb5aef751e4f2cb6"
          ]
        },
        "id": "hNxDiXg7fQG_",
        "outputId": "c41b393d-9642-4397-d14c-2fbe1caf7ff6"
      },
      "execution_count": null,
      "outputs": [
        {
          "output_type": "display_data",
          "data": {
            "text/plain": "  0%|          | 0/157 [00:00<?, ?it/s]",
            "application/vnd.jupyter.widget-view+json": {
              "version_major": 2,
              "version_minor": 0,
              "model_id": "32a40337be60470b8d5b09bf55c57228"
            }
          },
          "metadata": {}
        },
        {
          "name": "stdout",
          "text": "[ Train | 001/100 ] loss = 2.45072, acc = 0.16789\n",
          "output_type": "stream"
        },
        {
          "output_type": "display_data",
          "data": {
            "text/plain": "  0%|          | 0/57 [00:00<?, ?it/s]",
            "application/vnd.jupyter.widget-view+json": {
              "version_major": 2,
              "version_minor": 0,
              "model_id": "b561404d5fe64e8b9f483d23f97b76ef"
            }
          },
          "metadata": {}
        },
        {
          "name": "stdout",
          "text": "[ Valid | 001/100 ] loss = 2.22629, acc = 0.21311\n[ Valid | 001/100 ] loss = 2.22629, acc = 0.21311 -> best\nBest model found at epoch 0, saving model\n",
          "output_type": "stream"
        },
        {
          "output_type": "display_data",
          "data": {
            "text/plain": "  0%|          | 0/157 [00:00<?, ?it/s]",
            "application/vnd.jupyter.widget-view+json": {
              "version_major": 2,
              "version_minor": 0,
              "model_id": "43038d05dc954ccbbb5aef751e4f2cb6"
            }
          },
          "metadata": {}
        }
      ]
    },
    {
      "cell_type": "markdown",
      "source": [
        "### Dataloader for test"
      ],
      "metadata": {
        "id": "OQm8ASnvfQHA"
      }
    },
    {
      "cell_type": "code",
      "source": [
        "# Construct test datasets.\n",
        "# The argument \"loader\" tells how torchvision reads the data.\n",
        "test_set = FoodDataset(\"/kaggle/input/ml2023spring-hw3/test\", tfm=test_tfm)\n",
        "test_loader = DataLoader(test_set, batch_size=batch_size, shuffle=False, num_workers=0, pin_memory=True)"
      ],
      "metadata": {
        "trusted": true,
        "id": "Yn68b7QjfQHA"
      },
      "execution_count": null,
      "outputs": []
    },
    {
      "cell_type": "markdown",
      "source": [
        "### Testing and generate prediction CSV"
      ],
      "metadata": {
        "id": "mdQ_VLrRfQHA"
      }
    },
    {
      "cell_type": "code",
      "source": [
        "model_best = FoodClassifier().to(device)\n",
        "model_best.load_state_dict(torch.load(f\"{_exp_name}_best.ckpt\"))\n",
        "model_best.eval()\n",
        "prediction = []\n",
        "with torch.no_grad():\n",
        "    for data,_ in tqdm(test_loader):\n",
        "        test_pred = model_best(data.to(device))\n",
        "        test_label = np.argmax(test_pred.cpu().data.numpy(), axis=1)\n",
        "        prediction += test_label.squeeze().tolist()"
      ],
      "metadata": {
        "_kg_hide-input": true,
        "trusted": true,
        "id": "uxUbbT3_fQHA"
      },
      "execution_count": null,
      "outputs": []
    },
    {
      "cell_type": "code",
      "source": [
        "# create test csv\n",
        "def pad4(i):\n",
        "    return \"0\"*(4-len(str(i)))+str(i)\n",
        "df = pd.DataFrame()\n",
        "df[\"Id\"] = [pad4(i) for i in range(len(test_set))]\n",
        "df[\"Category\"] = prediction\n",
        "df.to_csv(\"submission.csv\",index = False)"
      ],
      "metadata": {
        "trusted": true,
        "id": "aK7wVCFEfQHB"
      },
      "execution_count": null,
      "outputs": []
    },
    {
      "cell_type": "markdown",
      "source": [
        "## Q1. Augmentation Implementation\n",
        "### Implement augmentation by finishing train_tfm in the code with image size of your choice. \n",
        "### Directly copy the following block and paste it on GradeScope after you finish the code\n",
        "#### Your train_tfm must be capable of producing 5+ different results when given an identical image multiple times.\n",
        "#### Your  train_tfm in the report can be different from train_tfm in your training code."
      ],
      "metadata": {
        "id": "iVzlkreFfQHB"
      }
    },
    {
      "cell_type": "code",
      "source": [
        "train_tfm = transforms.Compose([\n",
        "    # Resize the image into a fixed shape (height = width = 128)\n",
        "    transforms.Resize((128, 128)),\n",
        "    # You can add some transforms here.\n",
        "    transforms.ToTensor(),\n",
        "])"
      ],
      "metadata": {
        "trusted": true,
        "id": "sOFh0nTLfQHB"
      },
      "execution_count": null,
      "outputs": []
    },
    {
      "cell_type": "markdown",
      "source": [
        "## Q2. Visual Representations Implementation\n",
        "### Visualize the learned visual representations of the CNN model on the validation set by implementing t-SNE (t-distributed Stochastic Neighbor Embedding) on the output of both top & mid layers (You need to submit 2 images). \n",
        "### ChatGPT has generated the following code, which requires a minor modification to produce the expected results."
      ],
      "metadata": {
        "id": "pfS03gBVfQHB"
      }
    },
    {
      "cell_type": "code",
      "source": [
        "import torch\n",
        "import numpy as np\n",
        "from sklearn.manifold import TSNE\n",
        "import matplotlib.pyplot as plt\n",
        "from tqdm import tqdm\n",
        "import matplotlib.cm as cm\n",
        "import torch.nn as nn\n",
        "\n",
        "device = 'cuda' if torch.cuda.is_available() else 'cpu'\n",
        "\n",
        "# Load the trained model\n",
        "model = FoodClassifier().to(device)\n",
        "state_dict = torch.load(f\"{_exp_name}_best.ckpt\")\n",
        "model.load_state_dict(state_dict)\n",
        "model.eval()\n",
        "\n",
        "print(model)"
      ],
      "metadata": {
        "trusted": true,
        "id": "uewuQRDffQHB"
      },
      "execution_count": null,
      "outputs": []
    },
    {
      "cell_type": "code",
      "source": [
        "# Load the vaildation set defined by TA\n",
        "valid_set = FoodDataset(\"/kaggle/input/ml2023spring-hw3/valid\", tfm=test_tfm)\n",
        "valid_loader = DataLoader(valid_set, batch_size=64, shuffle=False, num_workers=0, pin_memory=True)\n",
        "\n",
        "# Extract the representations for the specific layer of model\n",
        "index = ... # You should find out the index of layer which is defined as \"top\" or 'mid' layer of your model.\n",
        "features = []\n",
        "labels = []\n",
        "for batch in tqdm(valid_loader):\n",
        "    imgs, lbls = batch\n",
        "    with torch.no_grad():\n",
        "        logits = model.cnn[:index](imgs.to(device))\n",
        "        logits = logits.view(logits.size()[0], -1)\n",
        "    labels.extend(lbls.cpu().numpy())\n",
        "    logits = np.squeeze(logits.cpu().numpy())\n",
        "    features.extend(logits)\n",
        "    \n",
        "features = np.array(features)\n",
        "colors_per_class = cm.rainbow(np.linspace(0, 1, 11))\n",
        "\n",
        "# Apply t-SNE to the features\n",
        "features_tsne = TSNE(n_components=2, init='pca', random_state=42).fit_transform(features)\n",
        "\n",
        "# Plot the t-SNE visualization\n",
        "plt.figure(figsize=(10, 8))\n",
        "for label in np.unique(labels):\n",
        "    plt.scatter(features_tsne[labels == label, 0], features_tsne[labels == label, 1], label=label, s=5)\n",
        "plt.legend()\n",
        "plt.show()"
      ],
      "metadata": {
        "trusted": true,
        "id": "4KpS1QcNfQHC"
      },
      "execution_count": null,
      "outputs": []
    }
  ]
}